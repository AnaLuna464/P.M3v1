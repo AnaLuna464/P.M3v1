{
 "cells": [
  {
   "cell_type": "markdown",
   "metadata": {},
   "source": [
    "### Pasos recomendados para el Análisis Exploratorio de Datos (EDA) "
   ]
  },
  {
   "cell_type": "markdown",
   "metadata": {},
   "source": [
    "1. Revisión Inicial y Comprensión de la Estructura de los Datos\n",
    "\n",
    "•\tDescripción del Dataset: Observar el tamaño del dataset ( registros y columnas).\n",
    "\n",
    "\n",
    "•\tTipos de Datos: Notar que hay columnas de tipo numérico (int64 y float64), categóricas (object) y booleanas (bool), lo cual puede guiar el tipo de análisis y preprocesamiento necesario.\n",
    "\n",
    "2. Chequeo de Valores Faltantes\n",
    "\n",
    "•\tIdentificar si hay columnas con valores faltantes (NaN). \n",
    "\n",
    "3. Estadísticas Descriptivas\n",
    "\n",
    "•\tUsar data.describe() para obtener estadísticas descriptivas de las variables numéricas (media, desviación estándar, mínimo, máximo, percentiles).\n",
    "\n",
    "\n",
    "•\tRevisar la distribución de las variables numéricas, especialmente para ver si hay variables con alta varianza o valores extremos (outliers).\n",
    "\n",
    "4. Análisis de Distribución de Variables Categóricas\n",
    "\n",
    "•\tExaminar la frecuencia de las categorías en variables.\n",
    "\n",
    "•\tEste análisis puede ayudar a entender patrones estacionales.\n",
    "\n",
    "5. Distribución de la Variable Objetivo \n",
    "\n",
    "•\tCalcular la proporción de registros para entender el balance de clases. Esto es importante si se va a construir un modelo predictivo, ya que un desbalance puede requerir técnicas de balanceo.\n",
    "\n",
    "6. Correlación Entre Variables Numéricas\n",
    "\n",
    "•\tRealizar una matriz de correlación para identificar relaciones entre las variables numéricas. \n",
    "\n",
    "•\tEsto permite entender qué variables tienen relaciones lineales y cuáles podrían ser útiles para la predicción.\n",
    "\n",
    "7. Visualización de Distribuciones de Variables\n",
    "\n",
    "•\tCrear histogramas o gráficos de densidad para ver la distribución de variables numéricas.\n",
    "\n",
    "•\tEsto ayuda a ver si las variables tienen distribuciones normales o si presentan asimetrías y sesgos.\n",
    "\n",
    "8. Análisis de la Relación entre Variables y la Variable Objetivo\n",
    "\n",
    "•\tAnalizar cómo varían otras variables según la variable objetivo.\n",
    "\n",
    "•\tRealizar gráficos de caja (boxplots) para ver si hay diferencias notables en las variables numéricas entre los grupos.\n",
    "\n",
    "9. Preprocesamiento y Transformaciones\n",
    "\n",
    "•\tSi se planea construir un modelo, es importante preparar las variables categóricas con técnicas como One-Hot Encoding y escalar las variables numéricas si es necesario.\n",
    "\n",
    "•\tConsiderar eliminar o transformar outliers en caso de detectar que afectan significativamente el análisis.\n"
   ]
  }
 ],
 "metadata": {
  "language_info": {
   "name": "python"
  }
 },
 "nbformat": 4,
 "nbformat_minor": 2
}
